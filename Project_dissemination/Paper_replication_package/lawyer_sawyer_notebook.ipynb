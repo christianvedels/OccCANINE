{
 "cells": [
  {
   "cell_type": "markdown",
   "metadata": {},
   "source": [
    "# Lawyer / Sawyer; Engineer / Engingeer"
   ]
  },
  {
   "cell_type": "code",
   "execution_count": 42,
   "metadata": {},
   "outputs": [],
   "source": [
    "from histocc import OccCANINE\n",
    "model = OccCANINE(verbose=False)\n",
    "model_old = OccCANINE(\"OccCANINE\", verbose=False)"
   ]
  },
  {
   "cell_type": "markdown",
   "metadata": {},
   "source": [
    "Defining input"
   ]
  },
  {
   "cell_type": "code",
   "execution_count": 32,
   "metadata": {},
   "outputs": [],
   "source": [
    "examples1 = [\"lawyer\", \"lawyer & editor\", \"lawyer (retired)\", \"lawyer retired\", \"lawyer clerk\"]\n",
    "examples2 = [\"asst. chief engineer\", \"engineer\"]\n",
    "\n",
    "# Adding context 1\n",
    "examples1_context_city = [i + \" in the city\" for i in examples1]\n",
    "examples2_context_city = [i + \" in the city\" for i in examples2]\n",
    "\n",
    "# Adding context 2\n",
    "examples1_context_office = [i + \" in an office\" for i in examples1]\n",
    "examples2_context_office = [i + \" in an office\" for i in examples2]\n",
    "\n",
    "# Adding context 3\n",
    "examples1_context_company = [i + \" in a company\" for i in examples1]\n",
    "examples2_context_company = [i + \" in a company\" for i in examples2]"
   ]
  },
  {
   "cell_type": "markdown",
   "metadata": {},
   "source": [
    "## Explanation:\n",
    "In the following we will try to replicate the problem and see whether the seq2seq decoder fixes it. We will also try to add context to the string."
   ]
  },
  {
   "cell_type": "markdown",
   "metadata": {},
   "source": [
    "### 1. Replicating problem with flat output (like v1 OccC)\n",
    "Below the problem is replicated. 'lawyer' is labelled as 'sawyer' and so is 'lawyer (retired)' but not 'lawyer reited'.\n",
    "For the engineers they are both labelled as 'machinery fitters ...' which is a good baseline guess. I.e. the problem does not replicate in this case, all though in the specific context of city directories we should expect it to be more likely that it is '02000 Engineer'."
   ]
  },
  {
   "cell_type": "code",
   "execution_count": 16,
   "metadata": {},
   "outputs": [
    {
     "name": "stdout",
     "output_type": "stream",
     "text": [
      "Based on behavior = 'fast', prediction_type was automatically set to 'flat'\n"
     ]
    },
    {
     "data": {
      "application/vnd.microsoft.datawrangler.viewer.v0+json": {
       "columns": [
        {
         "name": "index",
         "rawType": "int64",
         "type": "integer"
        },
        {
         "name": "occ1",
         "rawType": "object",
         "type": "string"
        },
        {
         "name": "hisco_1",
         "rawType": "object",
         "type": "string"
        },
        {
         "name": "prob_1",
         "rawType": "float32",
         "type": "float"
        },
        {
         "name": "desc_1",
         "rawType": "object",
         "type": "string"
        },
        {
         "name": "hisco_2",
         "rawType": "object",
         "type": "unknown"
        },
        {
         "name": "prob_2",
         "rawType": "float32",
         "type": "float"
        },
        {
         "name": "desc_2",
         "rawType": "object",
         "type": "string"
        },
        {
         "name": "hisco_3",
         "rawType": "object",
         "type": "unknown"
        },
        {
         "name": "prob_3",
         "rawType": "float32",
         "type": "float"
        },
        {
         "name": "desc_3",
         "rawType": "object",
         "type": "string"
        },
        {
         "name": "hisco_4",
         "rawType": "object",
         "type": "unknown"
        },
        {
         "name": "prob_4",
         "rawType": "float32",
         "type": "float"
        },
        {
         "name": "desc_4",
         "rawType": "object",
         "type": "string"
        },
        {
         "name": "hisco_5",
         "rawType": "object",
         "type": "unknown"
        },
        {
         "name": "prob_5",
         "rawType": "float32",
         "type": "float"
        },
        {
         "name": "desc_5",
         "rawType": "object",
         "type": "string"
        }
       ],
       "conversionMethod": "pd.DataFrame",
       "ref": "9137030b-71b2-4474-9f12-c8d4b14de7f7",
       "rows": [
        [
         "0",
         "en[SEP]lawyer",
         "73210",
         "0.7444542",
         "Sawyer, General",
         null,
         null,
         "No pred",
         null,
         null,
         "No pred",
         null,
         null,
         "No pred",
         null,
         null,
         "No pred"
        ],
        [
         "1",
         "en[SEP]lawyer & editor",
         "12110",
         "0.9876488",
         "Lawyer",
         null,
         null,
         "No pred",
         null,
         null,
         "No pred",
         null,
         null,
         "No pred",
         null,
         null,
         "No pred"
        ],
        [
         "2",
         "en[SEP]lawyer (retired)",
         "73210",
         "0.59781975",
         "Sawyer, General",
         "12410",
         "0.3987718",
         "Solicitor",
         "12110",
         "0.24502331",
         "Lawyer",
         null,
         null,
         "No pred",
         null,
         null,
         "No pred"
        ],
        [
         "3",
         "en[SEP]lawyer retired",
         "12110",
         "0.97620684",
         "Lawyer",
         null,
         null,
         "No pred",
         null,
         null,
         "No pred",
         null,
         null,
         "No pred",
         null,
         null,
         "No pred"
        ],
        [
         "4",
         "en[SEP]lawyer clerk",
         "39340",
         "0.8272558",
         "Legal Clerk",
         null,
         null,
         "No pred",
         null,
         null,
         "No pred",
         null,
         null,
         "No pred",
         null,
         null,
         "No pred"
        ]
       ],
       "shape": {
        "columns": 16,
        "rows": 5
       }
      },
      "text/html": [
       "<div>\n",
       "<style scoped>\n",
       "    .dataframe tbody tr th:only-of-type {\n",
       "        vertical-align: middle;\n",
       "    }\n",
       "\n",
       "    .dataframe tbody tr th {\n",
       "        vertical-align: top;\n",
       "    }\n",
       "\n",
       "    .dataframe thead th {\n",
       "        text-align: right;\n",
       "    }\n",
       "</style>\n",
       "<table border=\"1\" class=\"dataframe\">\n",
       "  <thead>\n",
       "    <tr style=\"text-align: right;\">\n",
       "      <th></th>\n",
       "      <th>occ1</th>\n",
       "      <th>hisco_1</th>\n",
       "      <th>prob_1</th>\n",
       "      <th>desc_1</th>\n",
       "      <th>hisco_2</th>\n",
       "      <th>prob_2</th>\n",
       "      <th>desc_2</th>\n",
       "      <th>hisco_3</th>\n",
       "      <th>prob_3</th>\n",
       "      <th>desc_3</th>\n",
       "      <th>hisco_4</th>\n",
       "      <th>prob_4</th>\n",
       "      <th>desc_4</th>\n",
       "      <th>hisco_5</th>\n",
       "      <th>prob_5</th>\n",
       "      <th>desc_5</th>\n",
       "    </tr>\n",
       "  </thead>\n",
       "  <tbody>\n",
       "    <tr>\n",
       "      <th>0</th>\n",
       "      <td>en[SEP]lawyer</td>\n",
       "      <td>73210</td>\n",
       "      <td>0.744454</td>\n",
       "      <td>Sawyer, General</td>\n",
       "      <td>NaN</td>\n",
       "      <td>NaN</td>\n",
       "      <td>No pred</td>\n",
       "      <td>NaN</td>\n",
       "      <td>NaN</td>\n",
       "      <td>No pred</td>\n",
       "      <td>NaN</td>\n",
       "      <td>NaN</td>\n",
       "      <td>No pred</td>\n",
       "      <td>NaN</td>\n",
       "      <td>NaN</td>\n",
       "      <td>No pred</td>\n",
       "    </tr>\n",
       "    <tr>\n",
       "      <th>1</th>\n",
       "      <td>en[SEP]lawyer &amp; editor</td>\n",
       "      <td>12110</td>\n",
       "      <td>0.987649</td>\n",
       "      <td>Lawyer</td>\n",
       "      <td>NaN</td>\n",
       "      <td>NaN</td>\n",
       "      <td>No pred</td>\n",
       "      <td>NaN</td>\n",
       "      <td>NaN</td>\n",
       "      <td>No pred</td>\n",
       "      <td>NaN</td>\n",
       "      <td>NaN</td>\n",
       "      <td>No pred</td>\n",
       "      <td>NaN</td>\n",
       "      <td>NaN</td>\n",
       "      <td>No pred</td>\n",
       "    </tr>\n",
       "    <tr>\n",
       "      <th>2</th>\n",
       "      <td>en[SEP]lawyer (retired)</td>\n",
       "      <td>73210</td>\n",
       "      <td>0.597820</td>\n",
       "      <td>Sawyer, General</td>\n",
       "      <td>12410</td>\n",
       "      <td>0.398772</td>\n",
       "      <td>Solicitor</td>\n",
       "      <td>12110</td>\n",
       "      <td>0.245023</td>\n",
       "      <td>Lawyer</td>\n",
       "      <td>NaN</td>\n",
       "      <td>NaN</td>\n",
       "      <td>No pred</td>\n",
       "      <td>NaN</td>\n",
       "      <td>NaN</td>\n",
       "      <td>No pred</td>\n",
       "    </tr>\n",
       "    <tr>\n",
       "      <th>3</th>\n",
       "      <td>en[SEP]lawyer retired</td>\n",
       "      <td>12110</td>\n",
       "      <td>0.976207</td>\n",
       "      <td>Lawyer</td>\n",
       "      <td>NaN</td>\n",
       "      <td>NaN</td>\n",
       "      <td>No pred</td>\n",
       "      <td>NaN</td>\n",
       "      <td>NaN</td>\n",
       "      <td>No pred</td>\n",
       "      <td>NaN</td>\n",
       "      <td>NaN</td>\n",
       "      <td>No pred</td>\n",
       "      <td>NaN</td>\n",
       "      <td>NaN</td>\n",
       "      <td>No pred</td>\n",
       "    </tr>\n",
       "    <tr>\n",
       "      <th>4</th>\n",
       "      <td>en[SEP]lawyer clerk</td>\n",
       "      <td>39340</td>\n",
       "      <td>0.827256</td>\n",
       "      <td>Legal Clerk</td>\n",
       "      <td>NaN</td>\n",
       "      <td>NaN</td>\n",
       "      <td>No pred</td>\n",
       "      <td>NaN</td>\n",
       "      <td>NaN</td>\n",
       "      <td>No pred</td>\n",
       "      <td>NaN</td>\n",
       "      <td>NaN</td>\n",
       "      <td>No pred</td>\n",
       "      <td>NaN</td>\n",
       "      <td>NaN</td>\n",
       "      <td>No pred</td>\n",
       "    </tr>\n",
       "  </tbody>\n",
       "</table>\n",
       "</div>"
      ],
      "text/plain": [
       "                      occ1 hisco_1    prob_1           desc_1 hisco_2  \\\n",
       "0            en[SEP]lawyer   73210  0.744454  Sawyer, General     NaN   \n",
       "1   en[SEP]lawyer & editor   12110  0.987649           Lawyer     NaN   \n",
       "2  en[SEP]lawyer (retired)   73210  0.597820  Sawyer, General   12410   \n",
       "3    en[SEP]lawyer retired   12110  0.976207           Lawyer     NaN   \n",
       "4      en[SEP]lawyer clerk   39340  0.827256      Legal Clerk     NaN   \n",
       "\n",
       "     prob_2     desc_2 hisco_3    prob_3   desc_3 hisco_4  prob_4   desc_4  \\\n",
       "0       NaN    No pred     NaN       NaN  No pred     NaN     NaN  No pred   \n",
       "1       NaN    No pred     NaN       NaN  No pred     NaN     NaN  No pred   \n",
       "2  0.398772  Solicitor   12110  0.245023   Lawyer     NaN     NaN  No pred   \n",
       "3       NaN    No pred     NaN       NaN  No pred     NaN     NaN  No pred   \n",
       "4       NaN    No pred     NaN       NaN  No pred     NaN     NaN  No pred   \n",
       "\n",
       "  hisco_5  prob_5   desc_5  \n",
       "0     NaN     NaN  No pred  \n",
       "1     NaN     NaN  No pred  \n",
       "2     NaN     NaN  No pred  \n",
       "3     NaN     NaN  No pred  \n",
       "4     NaN     NaN  No pred  "
      ]
     },
     "execution_count": 16,
     "metadata": {},
     "output_type": "execute_result"
    }
   ],
   "source": [
    "res = model(examples1, behavior = \"fast\", lang = \"en\")\n",
    "res"
   ]
  },
  {
   "cell_type": "code",
   "execution_count": 18,
   "metadata": {},
   "outputs": [
    {
     "name": "stdout",
     "output_type": "stream",
     "text": [
      "Based on behavior = 'fast', prediction_type was automatically set to 'flat'\n"
     ]
    },
    {
     "data": {
      "application/vnd.microsoft.datawrangler.viewer.v0+json": {
       "columns": [
        {
         "name": "index",
         "rawType": "int64",
         "type": "integer"
        },
        {
         "name": "occ1",
         "rawType": "object",
         "type": "string"
        },
        {
         "name": "hisco_1",
         "rawType": "object",
         "type": "string"
        },
        {
         "name": "prob_1",
         "rawType": "float32",
         "type": "float"
        },
        {
         "name": "desc_1",
         "rawType": "object",
         "type": "string"
        },
        {
         "name": "hisco_2",
         "rawType": "object",
         "type": "unknown"
        },
        {
         "name": "prob_2",
         "rawType": "float32",
         "type": "float"
        },
        {
         "name": "desc_2",
         "rawType": "object",
         "type": "string"
        },
        {
         "name": "hisco_3",
         "rawType": "object",
         "type": "unknown"
        },
        {
         "name": "prob_3",
         "rawType": "float32",
         "type": "float"
        },
        {
         "name": "desc_3",
         "rawType": "object",
         "type": "string"
        },
        {
         "name": "hisco_4",
         "rawType": "object",
         "type": "unknown"
        },
        {
         "name": "prob_4",
         "rawType": "float32",
         "type": "float"
        },
        {
         "name": "desc_4",
         "rawType": "object",
         "type": "string"
        },
        {
         "name": "hisco_5",
         "rawType": "object",
         "type": "unknown"
        },
        {
         "name": "prob_5",
         "rawType": "float32",
         "type": "float"
        },
        {
         "name": "desc_5",
         "rawType": "object",
         "type": "string"
        }
       ],
       "conversionMethod": "pd.DataFrame",
       "ref": "928a004e-f24b-4867-af81-d40469c6f151",
       "rows": [
        [
         "0",
         "en[SEP]asst. chief engineer",
         "84100",
         "0.33166957",
         "Machinery Fitters and Machine Assemblers",
         null,
         null,
         "No pred",
         null,
         null,
         "No pred",
         null,
         null,
         "No pred",
         null,
         null,
         "No pred"
        ],
        [
         "1",
         "en[SEP]engineer",
         "84100",
         "0.7751413",
         "Machinery Fitters and Machine Assemblers",
         "02000",
         "0.22305945",
         "Engineer, Specialisation Unknown",
         null,
         null,
         "No pred",
         null,
         null,
         "No pred",
         null,
         null,
         "No pred"
        ]
       ],
       "shape": {
        "columns": 16,
        "rows": 2
       }
      },
      "text/html": [
       "<div>\n",
       "<style scoped>\n",
       "    .dataframe tbody tr th:only-of-type {\n",
       "        vertical-align: middle;\n",
       "    }\n",
       "\n",
       "    .dataframe tbody tr th {\n",
       "        vertical-align: top;\n",
       "    }\n",
       "\n",
       "    .dataframe thead th {\n",
       "        text-align: right;\n",
       "    }\n",
       "</style>\n",
       "<table border=\"1\" class=\"dataframe\">\n",
       "  <thead>\n",
       "    <tr style=\"text-align: right;\">\n",
       "      <th></th>\n",
       "      <th>occ1</th>\n",
       "      <th>hisco_1</th>\n",
       "      <th>prob_1</th>\n",
       "      <th>desc_1</th>\n",
       "      <th>hisco_2</th>\n",
       "      <th>prob_2</th>\n",
       "      <th>desc_2</th>\n",
       "      <th>hisco_3</th>\n",
       "      <th>prob_3</th>\n",
       "      <th>desc_3</th>\n",
       "      <th>hisco_4</th>\n",
       "      <th>prob_4</th>\n",
       "      <th>desc_4</th>\n",
       "      <th>hisco_5</th>\n",
       "      <th>prob_5</th>\n",
       "      <th>desc_5</th>\n",
       "    </tr>\n",
       "  </thead>\n",
       "  <tbody>\n",
       "    <tr>\n",
       "      <th>0</th>\n",
       "      <td>en[SEP]asst. chief engineer</td>\n",
       "      <td>84100</td>\n",
       "      <td>0.331670</td>\n",
       "      <td>Machinery Fitters and Machine Assemblers</td>\n",
       "      <td>NaN</td>\n",
       "      <td>NaN</td>\n",
       "      <td>No pred</td>\n",
       "      <td>NaN</td>\n",
       "      <td>NaN</td>\n",
       "      <td>No pred</td>\n",
       "      <td>NaN</td>\n",
       "      <td>NaN</td>\n",
       "      <td>No pred</td>\n",
       "      <td>NaN</td>\n",
       "      <td>NaN</td>\n",
       "      <td>No pred</td>\n",
       "    </tr>\n",
       "    <tr>\n",
       "      <th>1</th>\n",
       "      <td>en[SEP]engineer</td>\n",
       "      <td>84100</td>\n",
       "      <td>0.775141</td>\n",
       "      <td>Machinery Fitters and Machine Assemblers</td>\n",
       "      <td>02000</td>\n",
       "      <td>0.223059</td>\n",
       "      <td>Engineer, Specialisation Unknown</td>\n",
       "      <td>NaN</td>\n",
       "      <td>NaN</td>\n",
       "      <td>No pred</td>\n",
       "      <td>NaN</td>\n",
       "      <td>NaN</td>\n",
       "      <td>No pred</td>\n",
       "      <td>NaN</td>\n",
       "      <td>NaN</td>\n",
       "      <td>No pred</td>\n",
       "    </tr>\n",
       "  </tbody>\n",
       "</table>\n",
       "</div>"
      ],
      "text/plain": [
       "                          occ1 hisco_1    prob_1  \\\n",
       "0  en[SEP]asst. chief engineer   84100  0.331670   \n",
       "1              en[SEP]engineer   84100  0.775141   \n",
       "\n",
       "                                     desc_1 hisco_2    prob_2  \\\n",
       "0  Machinery Fitters and Machine Assemblers     NaN       NaN   \n",
       "1  Machinery Fitters and Machine Assemblers   02000  0.223059   \n",
       "\n",
       "                             desc_2 hisco_3  prob_3   desc_3 hisco_4  prob_4  \\\n",
       "0                           No pred     NaN     NaN  No pred     NaN     NaN   \n",
       "1  Engineer, Specialisation Unknown     NaN     NaN  No pred     NaN     NaN   \n",
       "\n",
       "    desc_4 hisco_5  prob_5   desc_5  \n",
       "0  No pred     NaN     NaN  No pred  \n",
       "1  No pred     NaN     NaN  No pred  "
      ]
     },
     "execution_count": 18,
     "metadata": {},
     "output_type": "execute_result"
    }
   ],
   "source": [
    "res = model(examples2, behavior = \"fast\", lang = \"en\")\n",
    "res"
   ]
  },
  {
   "cell_type": "markdown",
   "metadata": {},
   "source": [
    "### 2. Trying seq2seq decoder (default in new version)\n",
    "Using the updated model based on digit by digit prediction, we improve somewhat. All though 'sawyer/lawyer' is still mixed up in the simple case. Engineer / Ass. Engineer is now not labelled consistently. "
   ]
  },
  {
   "cell_type": "code",
   "execution_count": 17,
   "metadata": {},
   "outputs": [
    {
     "name": "stdout",
     "output_type": "stream",
     "text": [
      "Based on behavior = 'good', prediction_type was automatically set to 'greedy'\n"
     ]
    },
    {
     "data": {
      "application/vnd.microsoft.datawrangler.viewer.v0+json": {
       "columns": [
        {
         "name": "index",
         "rawType": "int64",
         "type": "integer"
        },
        {
         "name": "occ1",
         "rawType": "object",
         "type": "string"
        },
        {
         "name": "hisco_1",
         "rawType": "object",
         "type": "string"
        },
        {
         "name": "desc_1",
         "rawType": "object",
         "type": "string"
        },
        {
         "name": "conf",
         "rawType": "float32",
         "type": "float"
        }
       ],
       "conversionMethod": "pd.DataFrame",
       "ref": "86c5775b-6463-4301-97a8-d2a424411e3a",
       "rows": [
        [
         "0",
         "en[SEP]lawyer",
         "73210",
         "Sawyer, General",
         "0.76000434"
        ],
        [
         "1",
         "en[SEP]lawyer & editor",
         "12110",
         "Lawyer",
         "0.68084157"
        ],
        [
         "2",
         "en[SEP]lawyer (retired)",
         "12410",
         "Solicitor",
         "0.5852986"
        ],
        [
         "3",
         "en[SEP]lawyer retired",
         "12110",
         "Lawyer",
         "0.88658524"
        ],
        [
         "4",
         "en[SEP]lawyer clerk",
         "39340",
         "Legal Clerk",
         "0.88624406"
        ]
       ],
       "shape": {
        "columns": 4,
        "rows": 5
       }
      },
      "text/html": [
       "<div>\n",
       "<style scoped>\n",
       "    .dataframe tbody tr th:only-of-type {\n",
       "        vertical-align: middle;\n",
       "    }\n",
       "\n",
       "    .dataframe tbody tr th {\n",
       "        vertical-align: top;\n",
       "    }\n",
       "\n",
       "    .dataframe thead th {\n",
       "        text-align: right;\n",
       "    }\n",
       "</style>\n",
       "<table border=\"1\" class=\"dataframe\">\n",
       "  <thead>\n",
       "    <tr style=\"text-align: right;\">\n",
       "      <th></th>\n",
       "      <th>occ1</th>\n",
       "      <th>hisco_1</th>\n",
       "      <th>desc_1</th>\n",
       "      <th>conf</th>\n",
       "    </tr>\n",
       "  </thead>\n",
       "  <tbody>\n",
       "    <tr>\n",
       "      <th>0</th>\n",
       "      <td>en[SEP]lawyer</td>\n",
       "      <td>73210</td>\n",
       "      <td>Sawyer, General</td>\n",
       "      <td>0.760004</td>\n",
       "    </tr>\n",
       "    <tr>\n",
       "      <th>1</th>\n",
       "      <td>en[SEP]lawyer &amp; editor</td>\n",
       "      <td>12110</td>\n",
       "      <td>Lawyer</td>\n",
       "      <td>0.680842</td>\n",
       "    </tr>\n",
       "    <tr>\n",
       "      <th>2</th>\n",
       "      <td>en[SEP]lawyer (retired)</td>\n",
       "      <td>12410</td>\n",
       "      <td>Solicitor</td>\n",
       "      <td>0.585299</td>\n",
       "    </tr>\n",
       "    <tr>\n",
       "      <th>3</th>\n",
       "      <td>en[SEP]lawyer retired</td>\n",
       "      <td>12110</td>\n",
       "      <td>Lawyer</td>\n",
       "      <td>0.886585</td>\n",
       "    </tr>\n",
       "    <tr>\n",
       "      <th>4</th>\n",
       "      <td>en[SEP]lawyer clerk</td>\n",
       "      <td>39340</td>\n",
       "      <td>Legal Clerk</td>\n",
       "      <td>0.886244</td>\n",
       "    </tr>\n",
       "  </tbody>\n",
       "</table>\n",
       "</div>"
      ],
      "text/plain": [
       "                      occ1 hisco_1           desc_1      conf\n",
       "0            en[SEP]lawyer   73210  Sawyer, General  0.760004\n",
       "1   en[SEP]lawyer & editor   12110           Lawyer  0.680842\n",
       "2  en[SEP]lawyer (retired)   12410        Solicitor  0.585299\n",
       "3    en[SEP]lawyer retired   12110           Lawyer  0.886585\n",
       "4      en[SEP]lawyer clerk   39340      Legal Clerk  0.886244"
      ]
     },
     "execution_count": 17,
     "metadata": {},
     "output_type": "execute_result"
    }
   ],
   "source": [
    "res = model(examples1, lang = \"en\")\n",
    "res"
   ]
  },
  {
   "cell_type": "code",
   "execution_count": 19,
   "metadata": {},
   "outputs": [
    {
     "name": "stdout",
     "output_type": "stream",
     "text": [
      "Based on behavior = 'good', prediction_type was automatically set to 'greedy'\n"
     ]
    },
    {
     "data": {
      "application/vnd.microsoft.datawrangler.viewer.v0+json": {
       "columns": [
        {
         "name": "index",
         "rawType": "int64",
         "type": "integer"
        },
        {
         "name": "occ1",
         "rawType": "object",
         "type": "string"
        },
        {
         "name": "hisco_1",
         "rawType": "object",
         "type": "string"
        },
        {
         "name": "desc_1",
         "rawType": "object",
         "type": "string"
        },
        {
         "name": "conf",
         "rawType": "float32",
         "type": "float"
        }
       ],
       "conversionMethod": "pd.DataFrame",
       "ref": "f6386fc9-ba3a-47e7-88e3-c22ac9883ad9",
       "rows": [
        [
         "0",
         "en[SEP]asst. chief engineer",
         "02000",
         "Engineer, Specialisation Unknown",
         "0.5545453"
        ],
        [
         "1",
         "en[SEP]engineer",
         "84100",
         "Machinery Fitters and Machine Assemblers",
         "0.7786383"
        ]
       ],
       "shape": {
        "columns": 4,
        "rows": 2
       }
      },
      "text/html": [
       "<div>\n",
       "<style scoped>\n",
       "    .dataframe tbody tr th:only-of-type {\n",
       "        vertical-align: middle;\n",
       "    }\n",
       "\n",
       "    .dataframe tbody tr th {\n",
       "        vertical-align: top;\n",
       "    }\n",
       "\n",
       "    .dataframe thead th {\n",
       "        text-align: right;\n",
       "    }\n",
       "</style>\n",
       "<table border=\"1\" class=\"dataframe\">\n",
       "  <thead>\n",
       "    <tr style=\"text-align: right;\">\n",
       "      <th></th>\n",
       "      <th>occ1</th>\n",
       "      <th>hisco_1</th>\n",
       "      <th>desc_1</th>\n",
       "      <th>conf</th>\n",
       "    </tr>\n",
       "  </thead>\n",
       "  <tbody>\n",
       "    <tr>\n",
       "      <th>0</th>\n",
       "      <td>en[SEP]asst. chief engineer</td>\n",
       "      <td>02000</td>\n",
       "      <td>Engineer, Specialisation Unknown</td>\n",
       "      <td>0.554545</td>\n",
       "    </tr>\n",
       "    <tr>\n",
       "      <th>1</th>\n",
       "      <td>en[SEP]engineer</td>\n",
       "      <td>84100</td>\n",
       "      <td>Machinery Fitters and Machine Assemblers</td>\n",
       "      <td>0.778638</td>\n",
       "    </tr>\n",
       "  </tbody>\n",
       "</table>\n",
       "</div>"
      ],
      "text/plain": [
       "                          occ1 hisco_1  \\\n",
       "0  en[SEP]asst. chief engineer   02000   \n",
       "1              en[SEP]engineer   84100   \n",
       "\n",
       "                                     desc_1      conf  \n",
       "0          Engineer, Specialisation Unknown  0.554545  \n",
       "1  Machinery Fitters and Machine Assemblers  0.778638  "
      ]
     },
     "execution_count": 19,
     "metadata": {},
     "output_type": "execute_result"
    }
   ],
   "source": [
    "res = model(examples2, lang = \"en\")\n",
    "res"
   ]
  },
  {
   "cell_type": "markdown",
   "metadata": {},
   "source": [
    "## 3. Adding context\n",
    "The model seems to be able to do a better job when there is other relevant information in the string. 'lawyer' is only one character away from 'sawyer' but very few sawyers work in an office or live in the city. We can simply add this to the string. It is the type of information which would often occur naturally in our training data anyway.\n",
    "\n",
    "We try by adding  but also \" in the city\" and \" in an office\". The first could reliably be added to the motivating example of city directories, since it is in fact people living in the city that appear in the data. The last could also be used if it is possible to be relatively sure that the strings are mostly office workers. "
   ]
  },
  {
   "cell_type": "code",
   "execution_count": 33,
   "metadata": {},
   "outputs": [
    {
     "name": "stdout",
     "output_type": "stream",
     "text": [
      "Based on behavior = 'good', prediction_type was automatically set to 'greedy'\n"
     ]
    },
    {
     "data": {
      "application/vnd.microsoft.datawrangler.viewer.v0+json": {
       "columns": [
        {
         "name": "index",
         "rawType": "int64",
         "type": "integer"
        },
        {
         "name": "occ1",
         "rawType": "object",
         "type": "string"
        },
        {
         "name": "hisco_1",
         "rawType": "object",
         "type": "string"
        },
        {
         "name": "desc_1",
         "rawType": "object",
         "type": "string"
        },
        {
         "name": "conf",
         "rawType": "float32",
         "type": "float"
        }
       ],
       "conversionMethod": "pd.DataFrame",
       "ref": "b11d1b43-fe9b-499c-a596-26721cc47300",
       "rows": [
        [
         "0",
         "en[SEP]lawyer in the city",
         "94990",
         "Other Production and Related Workers Not Elsewhere Classified",
         "0.2644342"
        ],
        [
         "1",
         "en[SEP]lawyer & editor in the city",
         "12110",
         "Lawyer",
         "0.47574365"
        ],
        [
         "2",
         "en[SEP]lawyer (retired) in the city",
         "12110",
         "Lawyer",
         "0.4239145"
        ],
        [
         "3",
         "en[SEP]lawyer retired in the city",
         "12110",
         "Lawyer",
         "0.41341007"
        ],
        [
         "4",
         "en[SEP]lawyer clerk in the city",
         "39340",
         "Legal Clerk",
         "0.50157726"
        ]
       ],
       "shape": {
        "columns": 4,
        "rows": 5
       }
      },
      "text/html": [
       "<div>\n",
       "<style scoped>\n",
       "    .dataframe tbody tr th:only-of-type {\n",
       "        vertical-align: middle;\n",
       "    }\n",
       "\n",
       "    .dataframe tbody tr th {\n",
       "        vertical-align: top;\n",
       "    }\n",
       "\n",
       "    .dataframe thead th {\n",
       "        text-align: right;\n",
       "    }\n",
       "</style>\n",
       "<table border=\"1\" class=\"dataframe\">\n",
       "  <thead>\n",
       "    <tr style=\"text-align: right;\">\n",
       "      <th></th>\n",
       "      <th>occ1</th>\n",
       "      <th>hisco_1</th>\n",
       "      <th>desc_1</th>\n",
       "      <th>conf</th>\n",
       "    </tr>\n",
       "  </thead>\n",
       "  <tbody>\n",
       "    <tr>\n",
       "      <th>0</th>\n",
       "      <td>en[SEP]lawyer in the city</td>\n",
       "      <td>94990</td>\n",
       "      <td>Other Production and Related Workers Not Elsew...</td>\n",
       "      <td>0.264434</td>\n",
       "    </tr>\n",
       "    <tr>\n",
       "      <th>1</th>\n",
       "      <td>en[SEP]lawyer &amp; editor in the city</td>\n",
       "      <td>12110</td>\n",
       "      <td>Lawyer</td>\n",
       "      <td>0.475744</td>\n",
       "    </tr>\n",
       "    <tr>\n",
       "      <th>2</th>\n",
       "      <td>en[SEP]lawyer (retired) in the city</td>\n",
       "      <td>12110</td>\n",
       "      <td>Lawyer</td>\n",
       "      <td>0.423914</td>\n",
       "    </tr>\n",
       "    <tr>\n",
       "      <th>3</th>\n",
       "      <td>en[SEP]lawyer retired in the city</td>\n",
       "      <td>12110</td>\n",
       "      <td>Lawyer</td>\n",
       "      <td>0.413410</td>\n",
       "    </tr>\n",
       "    <tr>\n",
       "      <th>4</th>\n",
       "      <td>en[SEP]lawyer clerk in the city</td>\n",
       "      <td>39340</td>\n",
       "      <td>Legal Clerk</td>\n",
       "      <td>0.501577</td>\n",
       "    </tr>\n",
       "  </tbody>\n",
       "</table>\n",
       "</div>"
      ],
      "text/plain": [
       "                                  occ1 hisco_1  \\\n",
       "0            en[SEP]lawyer in the city   94990   \n",
       "1   en[SEP]lawyer & editor in the city   12110   \n",
       "2  en[SEP]lawyer (retired) in the city   12110   \n",
       "3    en[SEP]lawyer retired in the city   12110   \n",
       "4      en[SEP]lawyer clerk in the city   39340   \n",
       "\n",
       "                                              desc_1      conf  \n",
       "0  Other Production and Related Workers Not Elsew...  0.264434  \n",
       "1                                             Lawyer  0.475744  \n",
       "2                                             Lawyer  0.423914  \n",
       "3                                             Lawyer  0.413410  \n",
       "4                                        Legal Clerk  0.501577  "
      ]
     },
     "execution_count": 33,
     "metadata": {},
     "output_type": "execute_result"
    }
   ],
   "source": [
    "res = model(examples1_context_city, lang = \"en\") # With ' in an office' context as the last part of every string\n",
    "res"
   ]
  },
  {
   "cell_type": "code",
   "execution_count": 25,
   "metadata": {},
   "outputs": [
    {
     "name": "stdout",
     "output_type": "stream",
     "text": [
      "Based on behavior = 'good', prediction_type was automatically set to 'greedy'\n"
     ]
    },
    {
     "data": {
      "application/vnd.microsoft.datawrangler.viewer.v0+json": {
       "columns": [
        {
         "name": "index",
         "rawType": "int64",
         "type": "integer"
        },
        {
         "name": "occ1",
         "rawType": "object",
         "type": "string"
        },
        {
         "name": "hisco_1",
         "rawType": "object",
         "type": "string"
        },
        {
         "name": "desc_1",
         "rawType": "object",
         "type": "string"
        },
        {
         "name": "conf",
         "rawType": "float32",
         "type": "float"
        }
       ],
       "conversionMethod": "pd.DataFrame",
       "ref": "871f8691-4a23-40dd-8be0-292e9f43f4ce",
       "rows": [
        [
         "0",
         "en[SEP]asst. chief engineer in the city",
         "94990",
         "Other Production and Related Workers Not Elsewhere Classified",
         "0.20431724"
        ],
        [
         "1",
         "en[SEP]engineer in the city",
         "94990",
         "Other Production and Related Workers Not Elsewhere Classified",
         "0.3700076"
        ]
       ],
       "shape": {
        "columns": 4,
        "rows": 2
       }
      },
      "text/html": [
       "<div>\n",
       "<style scoped>\n",
       "    .dataframe tbody tr th:only-of-type {\n",
       "        vertical-align: middle;\n",
       "    }\n",
       "\n",
       "    .dataframe tbody tr th {\n",
       "        vertical-align: top;\n",
       "    }\n",
       "\n",
       "    .dataframe thead th {\n",
       "        text-align: right;\n",
       "    }\n",
       "</style>\n",
       "<table border=\"1\" class=\"dataframe\">\n",
       "  <thead>\n",
       "    <tr style=\"text-align: right;\">\n",
       "      <th></th>\n",
       "      <th>occ1</th>\n",
       "      <th>hisco_1</th>\n",
       "      <th>desc_1</th>\n",
       "      <th>conf</th>\n",
       "    </tr>\n",
       "  </thead>\n",
       "  <tbody>\n",
       "    <tr>\n",
       "      <th>0</th>\n",
       "      <td>en[SEP]asst. chief engineer in the city</td>\n",
       "      <td>94990</td>\n",
       "      <td>Other Production and Related Workers Not Elsew...</td>\n",
       "      <td>0.204317</td>\n",
       "    </tr>\n",
       "    <tr>\n",
       "      <th>1</th>\n",
       "      <td>en[SEP]engineer in the city</td>\n",
       "      <td>94990</td>\n",
       "      <td>Other Production and Related Workers Not Elsew...</td>\n",
       "      <td>0.370008</td>\n",
       "    </tr>\n",
       "  </tbody>\n",
       "</table>\n",
       "</div>"
      ],
      "text/plain": [
       "                                      occ1 hisco_1  \\\n",
       "0  en[SEP]asst. chief engineer in the city   94990   \n",
       "1              en[SEP]engineer in the city   94990   \n",
       "\n",
       "                                              desc_1      conf  \n",
       "0  Other Production and Related Workers Not Elsew...  0.204317  \n",
       "1  Other Production and Related Workers Not Elsew...  0.370008  "
      ]
     },
     "execution_count": 25,
     "metadata": {},
     "output_type": "execute_result"
    }
   ],
   "source": [
    "res = model(examples2_context_city, lang = \"en\")\n",
    "res"
   ]
  },
  {
   "cell_type": "code",
   "execution_count": 36,
   "metadata": {},
   "outputs": [
    {
     "name": "stdout",
     "output_type": "stream",
     "text": [
      "Based on behavior = 'good', prediction_type was automatically set to 'greedy'\n"
     ]
    },
    {
     "data": {
      "application/vnd.microsoft.datawrangler.viewer.v0+json": {
       "columns": [
        {
         "name": "index",
         "rawType": "int64",
         "type": "integer"
        },
        {
         "name": "occ1",
         "rawType": "object",
         "type": "string"
        },
        {
         "name": "hisco_1",
         "rawType": "object",
         "type": "string"
        },
        {
         "name": "desc_1",
         "rawType": "object",
         "type": "string"
        },
        {
         "name": "conf",
         "rawType": "float32",
         "type": "float"
        }
       ],
       "conversionMethod": "pd.DataFrame",
       "ref": "5282a4d5-ca6d-482b-82f9-d94b11190c31",
       "rows": [
        [
         "0",
         "en[SEP]lawyer in an office",
         "12110",
         "Lawyer",
         "0.70012397"
        ],
        [
         "1",
         "en[SEP]lawyer & editor in an office",
         "12110",
         "Lawyer",
         "0.5316992"
        ],
        [
         "2",
         "en[SEP]lawyer (retired) in an office",
         "12110",
         "Lawyer",
         "0.5621393"
        ],
        [
         "3",
         "en[SEP]lawyer retired in an office",
         "12110",
         "Lawyer",
         "0.8916481"
        ],
        [
         "4",
         "en[SEP]lawyer clerk in an office",
         "39340",
         "Legal Clerk",
         "0.8776091"
        ]
       ],
       "shape": {
        "columns": 4,
        "rows": 5
       }
      },
      "text/html": [
       "<div>\n",
       "<style scoped>\n",
       "    .dataframe tbody tr th:only-of-type {\n",
       "        vertical-align: middle;\n",
       "    }\n",
       "\n",
       "    .dataframe tbody tr th {\n",
       "        vertical-align: top;\n",
       "    }\n",
       "\n",
       "    .dataframe thead th {\n",
       "        text-align: right;\n",
       "    }\n",
       "</style>\n",
       "<table border=\"1\" class=\"dataframe\">\n",
       "  <thead>\n",
       "    <tr style=\"text-align: right;\">\n",
       "      <th></th>\n",
       "      <th>occ1</th>\n",
       "      <th>hisco_1</th>\n",
       "      <th>desc_1</th>\n",
       "      <th>conf</th>\n",
       "    </tr>\n",
       "  </thead>\n",
       "  <tbody>\n",
       "    <tr>\n",
       "      <th>0</th>\n",
       "      <td>en[SEP]lawyer in an office</td>\n",
       "      <td>12110</td>\n",
       "      <td>Lawyer</td>\n",
       "      <td>0.700124</td>\n",
       "    </tr>\n",
       "    <tr>\n",
       "      <th>1</th>\n",
       "      <td>en[SEP]lawyer &amp; editor in an office</td>\n",
       "      <td>12110</td>\n",
       "      <td>Lawyer</td>\n",
       "      <td>0.531699</td>\n",
       "    </tr>\n",
       "    <tr>\n",
       "      <th>2</th>\n",
       "      <td>en[SEP]lawyer (retired) in an office</td>\n",
       "      <td>12110</td>\n",
       "      <td>Lawyer</td>\n",
       "      <td>0.562139</td>\n",
       "    </tr>\n",
       "    <tr>\n",
       "      <th>3</th>\n",
       "      <td>en[SEP]lawyer retired in an office</td>\n",
       "      <td>12110</td>\n",
       "      <td>Lawyer</td>\n",
       "      <td>0.891648</td>\n",
       "    </tr>\n",
       "    <tr>\n",
       "      <th>4</th>\n",
       "      <td>en[SEP]lawyer clerk in an office</td>\n",
       "      <td>39340</td>\n",
       "      <td>Legal Clerk</td>\n",
       "      <td>0.877609</td>\n",
       "    </tr>\n",
       "  </tbody>\n",
       "</table>\n",
       "</div>"
      ],
      "text/plain": [
       "                                   occ1 hisco_1       desc_1      conf\n",
       "0            en[SEP]lawyer in an office   12110       Lawyer  0.700124\n",
       "1   en[SEP]lawyer & editor in an office   12110       Lawyer  0.531699\n",
       "2  en[SEP]lawyer (retired) in an office   12110       Lawyer  0.562139\n",
       "3    en[SEP]lawyer retired in an office   12110       Lawyer  0.891648\n",
       "4      en[SEP]lawyer clerk in an office   39340  Legal Clerk  0.877609"
      ]
     },
     "execution_count": 36,
     "metadata": {},
     "output_type": "execute_result"
    }
   ],
   "source": [
    "res = model(examples1_context_office, lang = \"en\") # With ' in an office' context as the last part of every string\n",
    "res"
   ]
  },
  {
   "cell_type": "code",
   "execution_count": 27,
   "metadata": {},
   "outputs": [
    {
     "name": "stdout",
     "output_type": "stream",
     "text": [
      "Based on behavior = 'good', prediction_type was automatically set to 'greedy'\n"
     ]
    },
    {
     "data": {
      "application/vnd.microsoft.datawrangler.viewer.v0+json": {
       "columns": [
        {
         "name": "index",
         "rawType": "int64",
         "type": "integer"
        },
        {
         "name": "occ1",
         "rawType": "object",
         "type": "string"
        },
        {
         "name": "hisco_1",
         "rawType": "object",
         "type": "string"
        },
        {
         "name": "desc_1",
         "rawType": "object",
         "type": "string"
        },
        {
         "name": "conf",
         "rawType": "float32",
         "type": "float"
        }
       ],
       "conversionMethod": "pd.DataFrame",
       "ref": "88341e91-2620-4952-bd19-80ffd335600a",
       "rows": [
        [
         "0",
         "en[SEP]asst. chief engineer in an office",
         "04315",
         "Ship's Chief Engineer",
         "0.57768464"
        ],
        [
         "1",
         "en[SEP]engineer in an office",
         "39310",
         "Office Clerk, General",
         "0.8880735"
        ]
       ],
       "shape": {
        "columns": 4,
        "rows": 2
       }
      },
      "text/html": [
       "<div>\n",
       "<style scoped>\n",
       "    .dataframe tbody tr th:only-of-type {\n",
       "        vertical-align: middle;\n",
       "    }\n",
       "\n",
       "    .dataframe tbody tr th {\n",
       "        vertical-align: top;\n",
       "    }\n",
       "\n",
       "    .dataframe thead th {\n",
       "        text-align: right;\n",
       "    }\n",
       "</style>\n",
       "<table border=\"1\" class=\"dataframe\">\n",
       "  <thead>\n",
       "    <tr style=\"text-align: right;\">\n",
       "      <th></th>\n",
       "      <th>occ1</th>\n",
       "      <th>hisco_1</th>\n",
       "      <th>desc_1</th>\n",
       "      <th>conf</th>\n",
       "    </tr>\n",
       "  </thead>\n",
       "  <tbody>\n",
       "    <tr>\n",
       "      <th>0</th>\n",
       "      <td>en[SEP]asst. chief engineer in an office</td>\n",
       "      <td>04315</td>\n",
       "      <td>Ship's Chief Engineer</td>\n",
       "      <td>0.577685</td>\n",
       "    </tr>\n",
       "    <tr>\n",
       "      <th>1</th>\n",
       "      <td>en[SEP]engineer in an office</td>\n",
       "      <td>39310</td>\n",
       "      <td>Office Clerk, General</td>\n",
       "      <td>0.888074</td>\n",
       "    </tr>\n",
       "  </tbody>\n",
       "</table>\n",
       "</div>"
      ],
      "text/plain": [
       "                                       occ1 hisco_1                 desc_1  \\\n",
       "0  en[SEP]asst. chief engineer in an office   04315  Ship's Chief Engineer   \n",
       "1              en[SEP]engineer in an office   39310  Office Clerk, General   \n",
       "\n",
       "       conf  \n",
       "0  0.577685  \n",
       "1  0.888074  "
      ]
     },
     "execution_count": 27,
     "metadata": {},
     "output_type": "execute_result"
    }
   ],
   "source": [
    "res = model(examples2_context_office, lang = \"en\")\n",
    "res"
   ]
  },
  {
   "cell_type": "code",
   "execution_count": 30,
   "metadata": {},
   "outputs": [
    {
     "name": "stdout",
     "output_type": "stream",
     "text": [
      "Based on behavior = 'good', prediction_type was automatically set to 'greedy'\n"
     ]
    },
    {
     "data": {
      "application/vnd.microsoft.datawrangler.viewer.v0+json": {
       "columns": [
        {
         "name": "index",
         "rawType": "int64",
         "type": "integer"
        },
        {
         "name": "occ1",
         "rawType": "object",
         "type": "string"
        },
        {
         "name": "hisco_1",
         "rawType": "object",
         "type": "string"
        },
        {
         "name": "desc_1",
         "rawType": "object",
         "type": "string"
        },
        {
         "name": "conf",
         "rawType": "float32",
         "type": "float"
        }
       ],
       "conversionMethod": "pd.DataFrame",
       "ref": "7ccd1276-63da-4b0a-9a88-517e10d0c7a3",
       "rows": [
        [
         "0",
         "en[SEP]lawyer in a company",
         "12110",
         "Lawyer",
         "0.7503355"
        ],
        [
         "1",
         "en[SEP]lawyer & editor in a company",
         "12110",
         "Lawyer",
         "0.41324893"
        ],
        [
         "2",
         "en[SEP]lawyer (retired) in a company",
         "12110",
         "Lawyer",
         "0.49302652"
        ],
        [
         "3",
         "en[SEP]lawyer retired in a company",
         "12110",
         "Lawyer",
         "0.656803"
        ],
        [
         "4",
         "en[SEP]lawyer clerk in a company",
         "39310",
         "Office Clerk, General",
         "0.54282033"
        ]
       ],
       "shape": {
        "columns": 4,
        "rows": 5
       }
      },
      "text/html": [
       "<div>\n",
       "<style scoped>\n",
       "    .dataframe tbody tr th:only-of-type {\n",
       "        vertical-align: middle;\n",
       "    }\n",
       "\n",
       "    .dataframe tbody tr th {\n",
       "        vertical-align: top;\n",
       "    }\n",
       "\n",
       "    .dataframe thead th {\n",
       "        text-align: right;\n",
       "    }\n",
       "</style>\n",
       "<table border=\"1\" class=\"dataframe\">\n",
       "  <thead>\n",
       "    <tr style=\"text-align: right;\">\n",
       "      <th></th>\n",
       "      <th>occ1</th>\n",
       "      <th>hisco_1</th>\n",
       "      <th>desc_1</th>\n",
       "      <th>conf</th>\n",
       "    </tr>\n",
       "  </thead>\n",
       "  <tbody>\n",
       "    <tr>\n",
       "      <th>0</th>\n",
       "      <td>en[SEP]lawyer in a company</td>\n",
       "      <td>12110</td>\n",
       "      <td>Lawyer</td>\n",
       "      <td>0.750336</td>\n",
       "    </tr>\n",
       "    <tr>\n",
       "      <th>1</th>\n",
       "      <td>en[SEP]lawyer &amp; editor in a company</td>\n",
       "      <td>12110</td>\n",
       "      <td>Lawyer</td>\n",
       "      <td>0.413249</td>\n",
       "    </tr>\n",
       "    <tr>\n",
       "      <th>2</th>\n",
       "      <td>en[SEP]lawyer (retired) in a company</td>\n",
       "      <td>12110</td>\n",
       "      <td>Lawyer</td>\n",
       "      <td>0.493027</td>\n",
       "    </tr>\n",
       "    <tr>\n",
       "      <th>3</th>\n",
       "      <td>en[SEP]lawyer retired in a company</td>\n",
       "      <td>12110</td>\n",
       "      <td>Lawyer</td>\n",
       "      <td>0.656803</td>\n",
       "    </tr>\n",
       "    <tr>\n",
       "      <th>4</th>\n",
       "      <td>en[SEP]lawyer clerk in a company</td>\n",
       "      <td>39310</td>\n",
       "      <td>Office Clerk, General</td>\n",
       "      <td>0.542820</td>\n",
       "    </tr>\n",
       "  </tbody>\n",
       "</table>\n",
       "</div>"
      ],
      "text/plain": [
       "                                   occ1 hisco_1                 desc_1  \\\n",
       "0            en[SEP]lawyer in a company   12110                 Lawyer   \n",
       "1   en[SEP]lawyer & editor in a company   12110                 Lawyer   \n",
       "2  en[SEP]lawyer (retired) in a company   12110                 Lawyer   \n",
       "3    en[SEP]lawyer retired in a company   12110                 Lawyer   \n",
       "4      en[SEP]lawyer clerk in a company   39310  Office Clerk, General   \n",
       "\n",
       "       conf  \n",
       "0  0.750336  \n",
       "1  0.413249  \n",
       "2  0.493027  \n",
       "3  0.656803  \n",
       "4  0.542820  "
      ]
     },
     "execution_count": 30,
     "metadata": {},
     "output_type": "execute_result"
    }
   ],
   "source": [
    "res = model(examples1_context_company, lang = \"en\") # With ' in a company' context as the last part of every string\n",
    "res"
   ]
  },
  {
   "cell_type": "code",
   "execution_count": 31,
   "metadata": {},
   "outputs": [
    {
     "name": "stdout",
     "output_type": "stream",
     "text": [
      "Based on behavior = 'good', prediction_type was automatically set to 'greedy'\n"
     ]
    },
    {
     "data": {
      "application/vnd.microsoft.datawrangler.viewer.v0+json": {
       "columns": [
        {
         "name": "index",
         "rawType": "int64",
         "type": "integer"
        },
        {
         "name": "occ1",
         "rawType": "object",
         "type": "string"
        },
        {
         "name": "hisco_1",
         "rawType": "object",
         "type": "string"
        },
        {
         "name": "desc_1",
         "rawType": "object",
         "type": "string"
        },
        {
         "name": "conf",
         "rawType": "float32",
         "type": "float"
        }
       ],
       "conversionMethod": "pd.DataFrame",
       "ref": "b4c7fa33-57db-4d66-8804-e949a66781d9",
       "rows": [
        [
         "0",
         "en[SEP]asst. chief engineer in a company",
         "02000",
         "Engineer, Specialisation Unknown",
         "0.7819402"
        ],
        [
         "1",
         "en[SEP]engineer in a company",
         "84100",
         "Machinery Fitters and Machine Assemblers",
         "0.46621463"
        ]
       ],
       "shape": {
        "columns": 4,
        "rows": 2
       }
      },
      "text/html": [
       "<div>\n",
       "<style scoped>\n",
       "    .dataframe tbody tr th:only-of-type {\n",
       "        vertical-align: middle;\n",
       "    }\n",
       "\n",
       "    .dataframe tbody tr th {\n",
       "        vertical-align: top;\n",
       "    }\n",
       "\n",
       "    .dataframe thead th {\n",
       "        text-align: right;\n",
       "    }\n",
       "</style>\n",
       "<table border=\"1\" class=\"dataframe\">\n",
       "  <thead>\n",
       "    <tr style=\"text-align: right;\">\n",
       "      <th></th>\n",
       "      <th>occ1</th>\n",
       "      <th>hisco_1</th>\n",
       "      <th>desc_1</th>\n",
       "      <th>conf</th>\n",
       "    </tr>\n",
       "  </thead>\n",
       "  <tbody>\n",
       "    <tr>\n",
       "      <th>0</th>\n",
       "      <td>en[SEP]asst. chief engineer in a company</td>\n",
       "      <td>02000</td>\n",
       "      <td>Engineer, Specialisation Unknown</td>\n",
       "      <td>0.781940</td>\n",
       "    </tr>\n",
       "    <tr>\n",
       "      <th>1</th>\n",
       "      <td>en[SEP]engineer in a company</td>\n",
       "      <td>84100</td>\n",
       "      <td>Machinery Fitters and Machine Assemblers</td>\n",
       "      <td>0.466215</td>\n",
       "    </tr>\n",
       "  </tbody>\n",
       "</table>\n",
       "</div>"
      ],
      "text/plain": [
       "                                       occ1 hisco_1  \\\n",
       "0  en[SEP]asst. chief engineer in a company   02000   \n",
       "1              en[SEP]engineer in a company   84100   \n",
       "\n",
       "                                     desc_1      conf  \n",
       "0          Engineer, Specialisation Unknown  0.781940  \n",
       "1  Machinery Fitters and Machine Assemblers  0.466215  "
      ]
     },
     "execution_count": 31,
     "metadata": {},
     "output_type": "execute_result"
    }
   ],
   "source": [
    "res = model(examples2_context_company, lang = \"en\") # With ' in a company' context as the last part of every string\n",
    "res"
   ]
  },
  {
   "cell_type": "markdown",
   "metadata": {},
   "source": [
    "# What about the old OccCANINE?"
   ]
  },
  {
   "cell_type": "code",
   "execution_count": 43,
   "metadata": {},
   "outputs": [
    {
     "name": "stdout",
     "output_type": "stream",
     "text": [
      "Based on behavior = 'fast', prediction_type was automatically set to 'flat'\n"
     ]
    },
    {
     "data": {
      "application/vnd.microsoft.datawrangler.viewer.v0+json": {
       "columns": [
        {
         "name": "index",
         "rawType": "int64",
         "type": "integer"
        },
        {
         "name": "occ1",
         "rawType": "object",
         "type": "string"
        },
        {
         "name": "hisco_1",
         "rawType": "object",
         "type": "string"
        },
        {
         "name": "prob_1",
         "rawType": "float32",
         "type": "float"
        },
        {
         "name": "desc_1",
         "rawType": "object",
         "type": "string"
        },
        {
         "name": "hisco_2",
         "rawType": "object",
         "type": "unknown"
        },
        {
         "name": "prob_2",
         "rawType": "float32",
         "type": "float"
        },
        {
         "name": "desc_2",
         "rawType": "object",
         "type": "string"
        },
        {
         "name": "hisco_3",
         "rawType": "object",
         "type": "unknown"
        },
        {
         "name": "prob_3",
         "rawType": "float32",
         "type": "float"
        },
        {
         "name": "desc_3",
         "rawType": "object",
         "type": "string"
        },
        {
         "name": "hisco_4",
         "rawType": "object",
         "type": "unknown"
        },
        {
         "name": "prob_4",
         "rawType": "float32",
         "type": "float"
        },
        {
         "name": "desc_4",
         "rawType": "object",
         "type": "string"
        },
        {
         "name": "hisco_5",
         "rawType": "object",
         "type": "unknown"
        },
        {
         "name": "prob_5",
         "rawType": "float32",
         "type": "float"
        },
        {
         "name": "desc_5",
         "rawType": "object",
         "type": "string"
        }
       ],
       "conversionMethod": "pd.DataFrame",
       "ref": "c8e8ab7c-d0a0-4c8d-b23e-c5ecb091436a",
       "rows": [
        [
         "0",
         "en[SEP]lawyer",
         "73210",
         "0.8445012",
         "Sawyer, General",
         null,
         null,
         "No pred",
         null,
         null,
         "No pred",
         null,
         null,
         "No pred",
         null,
         null,
         "No pred"
        ],
        [
         "1",
         "en[SEP]lawyer & editor",
         "12110",
         "0.6708849",
         "Lawyer",
         "12410",
         "0.5382936",
         "Solicitor",
         null,
         null,
         "No pred",
         null,
         null,
         "No pred",
         null,
         null,
         "No pred"
        ],
        [
         "2",
         "en[SEP]lawyer (retired)",
         "73210",
         "0.5917342",
         "Sawyer, General",
         "12410",
         "0.2960358",
         "Solicitor",
         null,
         null,
         "No pred",
         null,
         null,
         "No pred",
         null,
         null,
         "No pred"
        ],
        [
         "3",
         "en[SEP]lawyer retired",
         "12110",
         "0.87445444",
         "Lawyer",
         null,
         null,
         "No pred",
         null,
         null,
         "No pred",
         null,
         null,
         "No pred",
         null,
         null,
         "No pred"
        ],
        [
         "4",
         "en[SEP]lawyer clerk",
         "12110",
         "0.59419143",
         "Lawyer",
         null,
         null,
         "No pred",
         null,
         null,
         "No pred",
         null,
         null,
         "No pred",
         null,
         null,
         "No pred"
        ],
        [
         "5",
         "en[SEP]lawyer in an office",
         "12110",
         "0.9406425",
         "Lawyer",
         null,
         null,
         "No pred",
         null,
         null,
         "No pred",
         null,
         null,
         "No pred",
         null,
         null,
         "No pred"
        ],
        [
         "6",
         "en[SEP]lawyer & editor in an office",
         "12110",
         "0.9743506",
         "Lawyer",
         null,
         null,
         "No pred",
         null,
         null,
         "No pred",
         null,
         null,
         "No pred",
         null,
         null,
         "No pred"
        ],
        [
         "7",
         "en[SEP]lawyer (retired) in an office",
         "12110",
         "0.95911777",
         "Lawyer",
         null,
         null,
         "No pred",
         null,
         null,
         "No pred",
         null,
         null,
         "No pred",
         null,
         null,
         "No pred"
        ],
        [
         "8",
         "en[SEP]lawyer retired in an office",
         "12110",
         "0.98536956",
         "Lawyer",
         null,
         null,
         "No pred",
         null,
         null,
         "No pred",
         null,
         null,
         "No pred",
         null,
         null,
         "No pred"
        ],
        [
         "9",
         "en[SEP]lawyer clerk in an office",
         "39340",
         "0.8455864",
         "Legal Clerk",
         null,
         null,
         "No pred",
         null,
         null,
         "No pred",
         null,
         null,
         "No pred",
         null,
         null,
         "No pred"
        ]
       ],
       "shape": {
        "columns": 16,
        "rows": 10
       }
      },
      "text/html": [
       "<div>\n",
       "<style scoped>\n",
       "    .dataframe tbody tr th:only-of-type {\n",
       "        vertical-align: middle;\n",
       "    }\n",
       "\n",
       "    .dataframe tbody tr th {\n",
       "        vertical-align: top;\n",
       "    }\n",
       "\n",
       "    .dataframe thead th {\n",
       "        text-align: right;\n",
       "    }\n",
       "</style>\n",
       "<table border=\"1\" class=\"dataframe\">\n",
       "  <thead>\n",
       "    <tr style=\"text-align: right;\">\n",
       "      <th></th>\n",
       "      <th>occ1</th>\n",
       "      <th>hisco_1</th>\n",
       "      <th>prob_1</th>\n",
       "      <th>desc_1</th>\n",
       "      <th>hisco_2</th>\n",
       "      <th>prob_2</th>\n",
       "      <th>desc_2</th>\n",
       "      <th>hisco_3</th>\n",
       "      <th>prob_3</th>\n",
       "      <th>desc_3</th>\n",
       "      <th>hisco_4</th>\n",
       "      <th>prob_4</th>\n",
       "      <th>desc_4</th>\n",
       "      <th>hisco_5</th>\n",
       "      <th>prob_5</th>\n",
       "      <th>desc_5</th>\n",
       "    </tr>\n",
       "  </thead>\n",
       "  <tbody>\n",
       "    <tr>\n",
       "      <th>0</th>\n",
       "      <td>en[SEP]lawyer</td>\n",
       "      <td>73210</td>\n",
       "      <td>0.844501</td>\n",
       "      <td>Sawyer, General</td>\n",
       "      <td>NaN</td>\n",
       "      <td>NaN</td>\n",
       "      <td>No pred</td>\n",
       "      <td>NaN</td>\n",
       "      <td>NaN</td>\n",
       "      <td>No pred</td>\n",
       "      <td>NaN</td>\n",
       "      <td>NaN</td>\n",
       "      <td>No pred</td>\n",
       "      <td>NaN</td>\n",
       "      <td>NaN</td>\n",
       "      <td>No pred</td>\n",
       "    </tr>\n",
       "    <tr>\n",
       "      <th>1</th>\n",
       "      <td>en[SEP]lawyer &amp; editor</td>\n",
       "      <td>12110</td>\n",
       "      <td>0.670885</td>\n",
       "      <td>Lawyer</td>\n",
       "      <td>12410</td>\n",
       "      <td>0.538294</td>\n",
       "      <td>Solicitor</td>\n",
       "      <td>NaN</td>\n",
       "      <td>NaN</td>\n",
       "      <td>No pred</td>\n",
       "      <td>NaN</td>\n",
       "      <td>NaN</td>\n",
       "      <td>No pred</td>\n",
       "      <td>NaN</td>\n",
       "      <td>NaN</td>\n",
       "      <td>No pred</td>\n",
       "    </tr>\n",
       "    <tr>\n",
       "      <th>2</th>\n",
       "      <td>en[SEP]lawyer (retired)</td>\n",
       "      <td>73210</td>\n",
       "      <td>0.591734</td>\n",
       "      <td>Sawyer, General</td>\n",
       "      <td>12410</td>\n",
       "      <td>0.296036</td>\n",
       "      <td>Solicitor</td>\n",
       "      <td>NaN</td>\n",
       "      <td>NaN</td>\n",
       "      <td>No pred</td>\n",
       "      <td>NaN</td>\n",
       "      <td>NaN</td>\n",
       "      <td>No pred</td>\n",
       "      <td>NaN</td>\n",
       "      <td>NaN</td>\n",
       "      <td>No pred</td>\n",
       "    </tr>\n",
       "    <tr>\n",
       "      <th>3</th>\n",
       "      <td>en[SEP]lawyer retired</td>\n",
       "      <td>12110</td>\n",
       "      <td>0.874454</td>\n",
       "      <td>Lawyer</td>\n",
       "      <td>NaN</td>\n",
       "      <td>NaN</td>\n",
       "      <td>No pred</td>\n",
       "      <td>NaN</td>\n",
       "      <td>NaN</td>\n",
       "      <td>No pred</td>\n",
       "      <td>NaN</td>\n",
       "      <td>NaN</td>\n",
       "      <td>No pred</td>\n",
       "      <td>NaN</td>\n",
       "      <td>NaN</td>\n",
       "      <td>No pred</td>\n",
       "    </tr>\n",
       "    <tr>\n",
       "      <th>4</th>\n",
       "      <td>en[SEP]lawyer clerk</td>\n",
       "      <td>12110</td>\n",
       "      <td>0.594191</td>\n",
       "      <td>Lawyer</td>\n",
       "      <td>NaN</td>\n",
       "      <td>NaN</td>\n",
       "      <td>No pred</td>\n",
       "      <td>NaN</td>\n",
       "      <td>NaN</td>\n",
       "      <td>No pred</td>\n",
       "      <td>NaN</td>\n",
       "      <td>NaN</td>\n",
       "      <td>No pred</td>\n",
       "      <td>NaN</td>\n",
       "      <td>NaN</td>\n",
       "      <td>No pred</td>\n",
       "    </tr>\n",
       "    <tr>\n",
       "      <th>5</th>\n",
       "      <td>en[SEP]lawyer in an office</td>\n",
       "      <td>12110</td>\n",
       "      <td>0.940642</td>\n",
       "      <td>Lawyer</td>\n",
       "      <td>NaN</td>\n",
       "      <td>NaN</td>\n",
       "      <td>No pred</td>\n",
       "      <td>NaN</td>\n",
       "      <td>NaN</td>\n",
       "      <td>No pred</td>\n",
       "      <td>NaN</td>\n",
       "      <td>NaN</td>\n",
       "      <td>No pred</td>\n",
       "      <td>NaN</td>\n",
       "      <td>NaN</td>\n",
       "      <td>No pred</td>\n",
       "    </tr>\n",
       "    <tr>\n",
       "      <th>6</th>\n",
       "      <td>en[SEP]lawyer &amp; editor in an office</td>\n",
       "      <td>12110</td>\n",
       "      <td>0.974351</td>\n",
       "      <td>Lawyer</td>\n",
       "      <td>NaN</td>\n",
       "      <td>NaN</td>\n",
       "      <td>No pred</td>\n",
       "      <td>NaN</td>\n",
       "      <td>NaN</td>\n",
       "      <td>No pred</td>\n",
       "      <td>NaN</td>\n",
       "      <td>NaN</td>\n",
       "      <td>No pred</td>\n",
       "      <td>NaN</td>\n",
       "      <td>NaN</td>\n",
       "      <td>No pred</td>\n",
       "    </tr>\n",
       "    <tr>\n",
       "      <th>7</th>\n",
       "      <td>en[SEP]lawyer (retired) in an office</td>\n",
       "      <td>12110</td>\n",
       "      <td>0.959118</td>\n",
       "      <td>Lawyer</td>\n",
       "      <td>NaN</td>\n",
       "      <td>NaN</td>\n",
       "      <td>No pred</td>\n",
       "      <td>NaN</td>\n",
       "      <td>NaN</td>\n",
       "      <td>No pred</td>\n",
       "      <td>NaN</td>\n",
       "      <td>NaN</td>\n",
       "      <td>No pred</td>\n",
       "      <td>NaN</td>\n",
       "      <td>NaN</td>\n",
       "      <td>No pred</td>\n",
       "    </tr>\n",
       "    <tr>\n",
       "      <th>8</th>\n",
       "      <td>en[SEP]lawyer retired in an office</td>\n",
       "      <td>12110</td>\n",
       "      <td>0.985370</td>\n",
       "      <td>Lawyer</td>\n",
       "      <td>NaN</td>\n",
       "      <td>NaN</td>\n",
       "      <td>No pred</td>\n",
       "      <td>NaN</td>\n",
       "      <td>NaN</td>\n",
       "      <td>No pred</td>\n",
       "      <td>NaN</td>\n",
       "      <td>NaN</td>\n",
       "      <td>No pred</td>\n",
       "      <td>NaN</td>\n",
       "      <td>NaN</td>\n",
       "      <td>No pred</td>\n",
       "    </tr>\n",
       "    <tr>\n",
       "      <th>9</th>\n",
       "      <td>en[SEP]lawyer clerk in an office</td>\n",
       "      <td>39340</td>\n",
       "      <td>0.845586</td>\n",
       "      <td>Legal Clerk</td>\n",
       "      <td>NaN</td>\n",
       "      <td>NaN</td>\n",
       "      <td>No pred</td>\n",
       "      <td>NaN</td>\n",
       "      <td>NaN</td>\n",
       "      <td>No pred</td>\n",
       "      <td>NaN</td>\n",
       "      <td>NaN</td>\n",
       "      <td>No pred</td>\n",
       "      <td>NaN</td>\n",
       "      <td>NaN</td>\n",
       "      <td>No pred</td>\n",
       "    </tr>\n",
       "  </tbody>\n",
       "</table>\n",
       "</div>"
      ],
      "text/plain": [
       "                                   occ1 hisco_1    prob_1           desc_1  \\\n",
       "0                         en[SEP]lawyer   73210  0.844501  Sawyer, General   \n",
       "1                en[SEP]lawyer & editor   12110  0.670885           Lawyer   \n",
       "2               en[SEP]lawyer (retired)   73210  0.591734  Sawyer, General   \n",
       "3                 en[SEP]lawyer retired   12110  0.874454           Lawyer   \n",
       "4                   en[SEP]lawyer clerk   12110  0.594191           Lawyer   \n",
       "5            en[SEP]lawyer in an office   12110  0.940642           Lawyer   \n",
       "6   en[SEP]lawyer & editor in an office   12110  0.974351           Lawyer   \n",
       "7  en[SEP]lawyer (retired) in an office   12110  0.959118           Lawyer   \n",
       "8    en[SEP]lawyer retired in an office   12110  0.985370           Lawyer   \n",
       "9      en[SEP]lawyer clerk in an office   39340  0.845586      Legal Clerk   \n",
       "\n",
       "  hisco_2    prob_2     desc_2 hisco_3  prob_3   desc_3 hisco_4  prob_4  \\\n",
       "0     NaN       NaN    No pred     NaN     NaN  No pred     NaN     NaN   \n",
       "1   12410  0.538294  Solicitor     NaN     NaN  No pred     NaN     NaN   \n",
       "2   12410  0.296036  Solicitor     NaN     NaN  No pred     NaN     NaN   \n",
       "3     NaN       NaN    No pred     NaN     NaN  No pred     NaN     NaN   \n",
       "4     NaN       NaN    No pred     NaN     NaN  No pred     NaN     NaN   \n",
       "5     NaN       NaN    No pred     NaN     NaN  No pred     NaN     NaN   \n",
       "6     NaN       NaN    No pred     NaN     NaN  No pred     NaN     NaN   \n",
       "7     NaN       NaN    No pred     NaN     NaN  No pred     NaN     NaN   \n",
       "8     NaN       NaN    No pred     NaN     NaN  No pred     NaN     NaN   \n",
       "9     NaN       NaN    No pred     NaN     NaN  No pred     NaN     NaN   \n",
       "\n",
       "    desc_4 hisco_5  prob_5   desc_5  \n",
       "0  No pred     NaN     NaN  No pred  \n",
       "1  No pred     NaN     NaN  No pred  \n",
       "2  No pred     NaN     NaN  No pred  \n",
       "3  No pred     NaN     NaN  No pred  \n",
       "4  No pred     NaN     NaN  No pred  \n",
       "5  No pred     NaN     NaN  No pred  \n",
       "6  No pred     NaN     NaN  No pred  \n",
       "7  No pred     NaN     NaN  No pred  \n",
       "8  No pred     NaN     NaN  No pred  \n",
       "9  No pred     NaN     NaN  No pred  "
      ]
     },
     "execution_count": 43,
     "metadata": {},
     "output_type": "execute_result"
    }
   ],
   "source": [
    "res = model_old(examples1 + examples1_context_office, lang = \"en\", behavior = \"fast\") # With ' in an office' context as the last part of every string\n",
    "res"
   ]
  }
 ],
 "metadata": {
  "kernelspec": {
   "display_name": "hisco_dev",
   "language": "python",
   "name": "python3"
  },
  "language_info": {
   "codemirror_mode": {
    "name": "ipython",
    "version": 3
   },
   "file_extension": ".py",
   "mimetype": "text/x-python",
   "name": "python",
   "nbconvert_exporter": "python",
   "pygments_lexer": "ipython3",
   "version": "3.11.11"
  }
 },
 "nbformat": 4,
 "nbformat_minor": 2
}
